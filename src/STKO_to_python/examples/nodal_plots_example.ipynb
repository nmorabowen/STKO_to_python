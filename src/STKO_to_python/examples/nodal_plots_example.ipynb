{
 "cells": [
  {
   "cell_type": "code",
   "execution_count": 1,
   "id": "2fdf8973",
   "metadata": {},
   "outputs": [],
   "source": [
    "from STKO_to_python import MPCODataSet\n",
    "from LadrunoGraphStyle import set_default_plot_params\n",
    "set_default_plot_params()"
   ]
  },
  {
   "cell_type": "code",
   "execution_count": 2,
   "id": "32f8e721",
   "metadata": {},
   "outputs": [
    {
     "name": "stdout",
     "output_type": "stream",
     "text": [
      "Estimated total nodes across all partitions: 60\n",
      "No elements found.\n"
     ]
    }
   ],
   "source": [
    "filepath = r'X:\\STKO Models\\1D\\reduced'\n",
    "\n",
    "model = MPCODataSet(hdf5_directory=filepath,\n",
    "                    recorder_name='results_nodes',\n",
    "                    name='Reduced Results')"
   ]
  },
  {
   "cell_type": "code",
   "execution_count": 3,
   "id": "eeae8e6f",
   "metadata": {},
   "outputs": [
    {
     "name": "stdout",
     "output_type": "stream",
     "text": [
      "Number of nodal results: 8\n",
      "  - ACCELERATION\n",
      "  - DISPLACEMENT\n",
      "  - RAYLEIGH_FORCE\n",
      "  - REACTION_FORCE\n",
      "  - REACTION_FORCE_INCLUDING_INERTIA\n",
      "  - UNBALANCED_FORCE\n",
      "  - UNBALANCED_FORCE_INCLUDING_INERTIA\n",
      "  - VELOCITY\n"
     ]
    }
   ],
   "source": [
    "model.print_nodal_results()"
   ]
  },
  {
   "cell_type": "code",
   "execution_count": 4,
   "id": "cc426e8a",
   "metadata": {},
   "outputs": [
    {
     "name": "stdout",
     "output_type": "stream",
     "text": [
      "Number of element results: 1\n",
      "  - globalForces\n"
     ]
    }
   ],
   "source": [
    "model.print_element_results()"
   ]
  },
  {
   "cell_type": "code",
   "execution_count": 5,
   "id": "22d76df3",
   "metadata": {},
   "outputs": [
    {
     "name": "stdout",
     "output_type": "stream",
     "text": [
      "Number of unique element types: 1\n",
      "  - globalForces\n",
      "    - 74-ForceBeamColumn3d[1000:1:0]\n"
     ]
    }
   ],
   "source": [
    "model.print_element_types()"
   ]
  },
  {
   "cell_type": "code",
   "execution_count": 6,
   "id": "572cdb1d",
   "metadata": {},
   "outputs": [
    {
     "name": "stdout",
     "output_type": "stream",
     "text": [
      "Number of unique element types: 1\n",
      "  - 74-ForceBeamColumn3d\n"
     ]
    }
   ],
   "source": [
    "model.print_unique_element_types()"
   ]
  },
  {
   "cell_type": "code",
   "execution_count": 7,
   "id": "3862b20e",
   "metadata": {},
   "outputs": [
    {
     "data": {
      "application/vnd.microsoft.datawrangler.viewer.v0+json": {
       "columns": [
        {
         "name": "('MODEL_STAGE', 'STEP')",
         "rawType": "object",
         "type": "unknown"
        },
        {
         "name": "TIME",
         "rawType": "float64",
         "type": "float"
        }
       ],
       "ref": "8fa070ab-cc11-4212-bb8d-e0fa7d1c8b49",
       "rows": [
        [
         "('MODEL_STAGE[1]', np.int64(0))",
         "0.02"
        ],
        [
         "('MODEL_STAGE[1]', np.int64(2))",
         "0.06"
        ],
        [
         "('MODEL_STAGE[1]', np.int64(4))",
         "0.1"
        ],
        [
         "('MODEL_STAGE[1]', np.int64(6))",
         "0.14"
        ],
        [
         "('MODEL_STAGE[1]', np.int64(8))",
         "0.18"
        ],
        [
         "('MODEL_STAGE[1]', np.int64(10))",
         "0.21999999999999997"
        ],
        [
         "('MODEL_STAGE[1]', np.int64(12))",
         "0.25999999999999995"
        ],
        [
         "('MODEL_STAGE[1]', np.int64(14))",
         "0.3"
        ],
        [
         "('MODEL_STAGE[1]', np.int64(16))",
         "0.34"
        ],
        [
         "('MODEL_STAGE[1]', np.int64(18))",
         "0.38000000000000006"
        ],
        [
         "('MODEL_STAGE[1]', np.int64(20))",
         "0.4200000000000001"
        ],
        [
         "('MODEL_STAGE[1]', np.int64(22))",
         "0.46000000000000013"
        ],
        [
         "('MODEL_STAGE[1]', np.int64(24))",
         "0.5000000000000001"
        ],
        [
         "('MODEL_STAGE[1]', np.int64(26))",
         "0.5400000000000001"
        ],
        [
         "('MODEL_STAGE[1]', np.int64(28))",
         "0.5800000000000002"
        ],
        [
         "('MODEL_STAGE[1]', np.int64(30))",
         "0.6200000000000002"
        ],
        [
         "('MODEL_STAGE[1]', np.int64(32))",
         "0.6600000000000003"
        ],
        [
         "('MODEL_STAGE[1]', np.int64(34))",
         "0.7000000000000003"
        ],
        [
         "('MODEL_STAGE[1]', np.int64(36))",
         "0.7400000000000003"
        ],
        [
         "('MODEL_STAGE[1]', np.int64(38))",
         "0.7800000000000004"
        ],
        [
         "('MODEL_STAGE[1]', np.int64(40))",
         "0.8200000000000004"
        ],
        [
         "('MODEL_STAGE[1]', np.int64(42))",
         "0.8600000000000004"
        ],
        [
         "('MODEL_STAGE[1]', np.int64(44))",
         "0.9000000000000005"
        ],
        [
         "('MODEL_STAGE[1]', np.int64(46))",
         "0.9400000000000005"
        ],
        [
         "('MODEL_STAGE[1]', np.int64(48))",
         "0.9800000000000005"
        ],
        [
         "('MODEL_STAGE[2]', np.int64(50))",
         "0.02"
        ],
        [
         "('MODEL_STAGE[2]', np.int64(52))",
         "0.06"
        ],
        [
         "('MODEL_STAGE[2]', np.int64(54))",
         "0.1"
        ],
        [
         "('MODEL_STAGE[2]', np.int64(56))",
         "0.14"
        ],
        [
         "('MODEL_STAGE[2]', np.int64(58))",
         "0.18"
        ],
        [
         "('MODEL_STAGE[2]', np.int64(60))",
         "0.21999999999999997"
        ],
        [
         "('MODEL_STAGE[2]', np.int64(62))",
         "0.25999999999999995"
        ],
        [
         "('MODEL_STAGE[2]', np.int64(64))",
         "0.3"
        ],
        [
         "('MODEL_STAGE[2]', np.int64(66))",
         "0.34"
        ],
        [
         "('MODEL_STAGE[2]', np.int64(68))",
         "0.38000000000000006"
        ],
        [
         "('MODEL_STAGE[2]', np.int64(70))",
         "0.4200000000000001"
        ],
        [
         "('MODEL_STAGE[2]', np.int64(72))",
         "0.46000000000000013"
        ],
        [
         "('MODEL_STAGE[2]', np.int64(74))",
         "0.5000000000000001"
        ],
        [
         "('MODEL_STAGE[2]', np.int64(76))",
         "0.5400000000000001"
        ],
        [
         "('MODEL_STAGE[2]', np.int64(78))",
         "0.5800000000000002"
        ],
        [
         "('MODEL_STAGE[2]', np.int64(80))",
         "0.6200000000000002"
        ],
        [
         "('MODEL_STAGE[2]', np.int64(82))",
         "0.6600000000000003"
        ],
        [
         "('MODEL_STAGE[2]', np.int64(84))",
         "0.7000000000000003"
        ],
        [
         "('MODEL_STAGE[2]', np.int64(86))",
         "0.7400000000000003"
        ],
        [
         "('MODEL_STAGE[2]', np.int64(88))",
         "0.7800000000000004"
        ],
        [
         "('MODEL_STAGE[2]', np.int64(90))",
         "0.8200000000000004"
        ],
        [
         "('MODEL_STAGE[2]', np.int64(92))",
         "0.8600000000000004"
        ],
        [
         "('MODEL_STAGE[2]', np.int64(94))",
         "0.9000000000000005"
        ],
        [
         "('MODEL_STAGE[2]', np.int64(96))",
         "0.9400000000000005"
        ],
        [
         "('MODEL_STAGE[2]', np.int64(98))",
         "0.9800000000000005"
        ]
       ],
       "shape": {
        "columns": 1,
        "rows": 1631
       }
      },
      "text/html": [
       "<div>\n",
       "<style scoped>\n",
       "    .dataframe tbody tr th:only-of-type {\n",
       "        vertical-align: middle;\n",
       "    }\n",
       "\n",
       "    .dataframe tbody tr th {\n",
       "        vertical-align: top;\n",
       "    }\n",
       "\n",
       "    .dataframe thead th {\n",
       "        text-align: right;\n",
       "    }\n",
       "</style>\n",
       "<table border=\"1\" class=\"dataframe\">\n",
       "  <thead>\n",
       "    <tr style=\"text-align: right;\">\n",
       "      <th></th>\n",
       "      <th></th>\n",
       "      <th>TIME</th>\n",
       "    </tr>\n",
       "    <tr>\n",
       "      <th>MODEL_STAGE</th>\n",
       "      <th>STEP</th>\n",
       "      <th></th>\n",
       "    </tr>\n",
       "  </thead>\n",
       "  <tbody>\n",
       "    <tr>\n",
       "      <th rowspan=\"5\" valign=\"top\">MODEL_STAGE[1]</th>\n",
       "      <th>0</th>\n",
       "      <td>0.020000</td>\n",
       "    </tr>\n",
       "    <tr>\n",
       "      <th>2</th>\n",
       "      <td>0.060000</td>\n",
       "    </tr>\n",
       "    <tr>\n",
       "      <th>4</th>\n",
       "      <td>0.100000</td>\n",
       "    </tr>\n",
       "    <tr>\n",
       "      <th>6</th>\n",
       "      <td>0.140000</td>\n",
       "    </tr>\n",
       "    <tr>\n",
       "      <th>8</th>\n",
       "      <td>0.180000</td>\n",
       "    </tr>\n",
       "    <tr>\n",
       "      <th>...</th>\n",
       "      <th>...</th>\n",
       "      <td>...</td>\n",
       "    </tr>\n",
       "    <tr>\n",
       "      <th rowspan=\"5\" valign=\"top\">MODEL_STAGE[5]</th>\n",
       "      <th>16191</th>\n",
       "      <td>39.873359</td>\n",
       "    </tr>\n",
       "    <tr>\n",
       "      <th>16202</th>\n",
       "      <td>39.900859</td>\n",
       "    </tr>\n",
       "    <tr>\n",
       "      <th>16213</th>\n",
       "      <td>39.928359</td>\n",
       "    </tr>\n",
       "    <tr>\n",
       "      <th>16224</th>\n",
       "      <td>39.955859</td>\n",
       "    </tr>\n",
       "    <tr>\n",
       "      <th>16235</th>\n",
       "      <td>39.983359</td>\n",
       "    </tr>\n",
       "  </tbody>\n",
       "</table>\n",
       "<p>1631 rows × 1 columns</p>\n",
       "</div>"
      ],
      "text/plain": [
       "                           TIME\n",
       "MODEL_STAGE    STEP            \n",
       "MODEL_STAGE[1] 0       0.020000\n",
       "               2       0.060000\n",
       "               4       0.100000\n",
       "               6       0.140000\n",
       "               8       0.180000\n",
       "...                         ...\n",
       "MODEL_STAGE[5] 16191  39.873359\n",
       "               16202  39.900859\n",
       "               16213  39.928359\n",
       "               16224  39.955859\n",
       "               16235  39.983359\n",
       "\n",
       "[1631 rows x 1 columns]"
      ]
     },
     "execution_count": 7,
     "metadata": {},
     "output_type": "execute_result"
    }
   ],
   "source": [
    "model.time"
   ]
  },
  {
   "cell_type": "code",
   "execution_count": 8,
   "id": "8ad644ef",
   "metadata": {},
   "outputs": [
    {
     "data": {
      "text/plain": [
       "{'MODEL_STAGE[1]': 25,\n",
       " 'MODEL_STAGE[2]': 25,\n",
       " 'MODEL_STAGE[3]': 25,\n",
       " 'MODEL_STAGE[4]': 25,\n",
       " 'MODEL_STAGE[5]': 1531}"
      ]
     },
     "execution_count": 8,
     "metadata": {},
     "output_type": "execute_result"
    }
   ],
   "source": [
    "model.number_of_steps"
   ]
  },
  {
   "cell_type": "code",
   "execution_count": 9,
   "id": "097a73a7",
   "metadata": {},
   "outputs": [
    {
     "data": {
      "text/plain": [
       "<STKO_to_python.plotting.plot_nodes.PlotNodes at 0x1ec6d098700>"
      ]
     },
     "execution_count": 9,
     "metadata": {},
     "output_type": "execute_result"
    }
   ],
   "source": [
    "model.plot.nodes"
   ]
  },
  {
   "cell_type": "code",
   "execution_count": 10,
   "id": "f301ed03",
   "metadata": {},
   "outputs": [
    {
     "data": {
      "image/png": "[encoded data removed]",
      "text/plain": [
       "<Figure size 1000x600 with 1 Axes>"
      ]
     },
     "metadata": {},
     "output_type": "display_data"
    }
   ],
   "source": [
    "ax, results = model.plot._nodes.plot_nodal_results(model_stage='MODEL_STAGE[5]',\n",
    "                              results_name_verticalAxis='DISPLACEMENT',\n",
    "                              selection_set_id_verticalAxis=4,\n",
    "                              direction_verticalAxis=2,\n",
    "                              results_name_horizontalAxis='TIME',\n",
    "                              marker=None,\n",
    "                              values_operation_verticalAxis=['RunningEnvelope', 'min', 'max'],\n",
    "                              )\n",
    "\n"
   ]
  },
  {
   "cell_type": "code",
   "execution_count": 11,
   "id": "8e316ec0",
   "metadata": {},
   "outputs": [
    {
     "data": {
      "text/plain": [
       "<bound method Nodes.get_node_files_and_indices of <STKO_to_python.nodes.nodes.Nodes object at 0x000001EC6D098A00>>"
      ]
     },
     "execution_count": 11,
     "metadata": {},
     "output_type": "execute_result"
    }
   ],
   "source": [
    "model.nodes.get_node_files_and_indices"
   ]
  },
  {
   "cell_type": "code",
   "execution_count": 12,
   "id": "14ba2c1c",
   "metadata": {},
   "outputs": [
    {
     "data": {
      "application/vnd.microsoft.datawrangler.viewer.v0+json": {
       "columns": [
        {
         "name": "index",
         "rawType": "int64",
         "type": "integer"
        },
        {
         "name": "node_id",
         "rawType": "int64",
         "type": "integer"
        },
        {
         "name": "file_id",
         "rawType": "int64",
         "type": "integer"
        },
        {
         "name": "index",
         "rawType": "int64",
         "type": "integer"
        },
        {
         "name": "x",
         "rawType": "float64",
         "type": "float"
        },
        {
         "name": "y",
         "rawType": "float64",
         "type": "float"
        },
        {
         "name": "z",
         "rawType": "float64",
         "type": "float"
        }
       ],
       "ref": "c86bea42-d5cb-417d-a689-bc12fbd7eb4a",
       "rows": [
        [
         "0",
         "189",
         "0",
         "0",
         "38250.0",
         "25250.0",
         "31500.0"
        ],
        [
         "1",
         "198",
         "0",
         "1",
         "38250.0",
         "5750.0",
         "31500.0"
        ],
        [
         "2",
         "603",
         "0",
         "2",
         "38250.0",
         "25250.0",
         "35000.0"
        ],
        [
         "3",
         "612",
         "0",
         "3",
         "38250.0",
         "5750.0",
         "35000.0"
        ],
        [
         "4",
         "743",
         "0",
         "4",
         "38250.0",
         "25250.0",
         "21000.0"
        ],
        [
         "5",
         "752",
         "0",
         "5",
         "38250.0",
         "5750.0",
         "21000.0"
        ],
        [
         "6",
         "813",
         "0",
         "6",
         "38250.0",
         "25250.0",
         "24500.0"
        ],
        [
         "7",
         "822",
         "0",
         "7",
         "38250.0",
         "5750.0",
         "24500.0"
        ],
        [
         "8",
         "859",
         "0",
         "8",
         "38250.0",
         "25250.0",
         "28000.0"
        ],
        [
         "9",
         "868",
         "0",
         "9",
         "38250.0",
         "5750.0",
         "28000.0"
        ],
        [
         "10",
         "210",
         "1",
         "0",
         "22000.0",
         "15500.0",
         "31500.0"
        ],
        [
         "11",
         "223",
         "1",
         "1",
         "5750.0",
         "5750.0",
         "31500.0"
        ],
        [
         "12",
         "624",
         "1",
         "2",
         "22000.0",
         "15500.0",
         "35000.0"
        ],
        [
         "13",
         "637",
         "1",
         "3",
         "5750.0",
         "5750.0",
         "35000.0"
        ],
        [
         "14",
         "777",
         "1",
         "4",
         "5750.0",
         "5750.0",
         "21000.0"
        ],
        [
         "15",
         "834",
         "1",
         "5",
         "22000.0",
         "15500.0",
         "24500.0"
        ],
        [
         "16",
         "847",
         "1",
         "6",
         "5750.0",
         "5750.0",
         "24500.0"
        ],
        [
         "17",
         "880",
         "1",
         "7",
         "22000.0",
         "15500.0",
         "28000.0"
        ],
        [
         "18",
         "893",
         "1",
         "8",
         "5750.0",
         "5750.0",
         "28000.0"
        ],
        [
         "19",
         "393",
         "2",
         "0",
         "38250.0",
         "25250.0",
         "10500.0"
        ],
        [
         "20",
         "402",
         "2",
         "1",
         "38250.0",
         "5750.0",
         "10500.0"
        ],
        [
         "21",
         "414",
         "2",
         "2",
         "22000.0",
         "15500.0",
         "10500.0"
        ],
        [
         "22",
         "463",
         "2",
         "3",
         "38250.0",
         "25250.0",
         "14000.0"
        ],
        [
         "23",
         "472",
         "2",
         "4",
         "38250.0",
         "5750.0",
         "14000.0"
        ],
        [
         "24",
         "533",
         "2",
         "5",
         "38250.0",
         "25250.0",
         "7000.0"
        ],
        [
         "25",
         "542",
         "2",
         "6",
         "38250.0",
         "5750.0",
         "7000.0"
        ],
        [
         "26",
         "554",
         "2",
         "7",
         "22000.0",
         "15500.0",
         "7000.0"
        ],
        [
         "27",
         "673",
         "2",
         "8",
         "38250.0",
         "25250.0",
         "17500.0"
        ],
        [
         "28",
         "682",
         "2",
         "9",
         "38250.0",
         "5750.0",
         "17500.0"
        ],
        [
         "29",
         "743",
         "2",
         "10",
         "38250.0",
         "25250.0",
         "21000.0"
        ],
        [
         "30",
         "752",
         "2",
         "11",
         "38250.0",
         "5750.0",
         "21000.0"
        ],
        [
         "31",
         "1015",
         "2",
         "12",
         "38250.0",
         "25250.0",
         "3500.0"
        ],
        [
         "32",
         "1024",
         "2",
         "13",
         "38250.0",
         "5750.0",
         "3500.0"
        ],
        [
         "33",
         "427",
         "3",
         "0",
         "5750.0",
         "5750.0",
         "10500.0"
        ],
        [
         "34",
         "484",
         "3",
         "1",
         "22000.0",
         "15500.0",
         "14000.0"
        ],
        [
         "35",
         "497",
         "3",
         "2",
         "5750.0",
         "5750.0",
         "14000.0"
        ],
        [
         "36",
         "567",
         "3",
         "3",
         "5750.0",
         "5750.0",
         "7000.0"
        ],
        [
         "37",
         "694",
         "3",
         "4",
         "22000.0",
         "15500.0",
         "17500.0"
        ],
        [
         "38",
         "707",
         "3",
         "5",
         "5750.0",
         "5750.0",
         "17500.0"
        ],
        [
         "39",
         "764",
         "3",
         "6",
         "22000.0",
         "15500.0",
         "21000.0"
        ],
        [
         "40",
         "777",
         "3",
         "7",
         "5750.0",
         "5750.0",
         "21000.0"
        ],
        [
         "41",
         "999",
         "4",
         "0",
         "22000.0",
         "15500.0",
         "0.0"
        ],
        [
         "42",
         "47",
         "5",
         "0",
         "5750.0",
         "5750.0",
         "-6000.0"
        ],
        [
         "43",
         "271",
         "5",
         "1",
         "5750.0",
         "5750.0",
         "-3000.0"
        ],
        [
         "44",
         "567",
         "5",
         "2",
         "5750.0",
         "5750.0",
         "7000.0"
        ],
        [
         "45",
         "941",
         "5",
         "3",
         "5750.0",
         "5750.0",
         "0.0"
        ],
        [
         "46",
         "1049",
         "5",
         "4",
         "5750.0",
         "5750.0",
         "3500.0"
        ],
        [
         "47",
         "70",
         "6",
         "0",
         "22000.0",
         "15500.0",
         "-6000.0"
        ],
        [
         "48",
         "329",
         "6",
         "1",
         "22000.0",
         "15500.0",
         "-3000.0"
        ],
        [
         "49",
         "1015",
         "6",
         "2",
         "38250.0",
         "25250.0",
         "3500.0"
        ]
       ],
       "shape": {
        "columns": 6,
        "rows": 60
       }
      },
      "text/html": [
       "<div>\n",
       "<style scoped>\n",
       "    .dataframe tbody tr th:only-of-type {\n",
       "        vertical-align: middle;\n",
       "    }\n",
       "\n",
       "    .dataframe tbody tr th {\n",
       "        vertical-align: top;\n",
       "    }\n",
       "\n",
       "    .dataframe thead th {\n",
       "        text-align: right;\n",
       "    }\n",
       "</style>\n",
       "<table border=\"1\" class=\"dataframe\">\n",
       "  <thead>\n",
       "    <tr style=\"text-align: right;\">\n",
       "      <th></th>\n",
       "      <th>node_id</th>\n",
       "      <th>file_id</th>\n",
       "      <th>index</th>\n",
       "      <th>x</th>\n",
       "      <th>y</th>\n",
       "      <th>z</th>\n",
       "    </tr>\n",
       "  </thead>\n",
       "  <tbody>\n",
       "    <tr>\n",
       "      <th>0</th>\n",
       "      <td>189</td>\n",
       "      <td>0</td>\n",
       "      <td>0</td>\n",
       "      <td>38250.0</td>\n",
       "      <td>25250.0</td>\n",
       "      <td>31500.0</td>\n",
       "    </tr>\n",
       "    <tr>\n",
       "      <th>1</th>\n",
       "      <td>198</td>\n",
       "      <td>0</td>\n",
       "      <td>1</td>\n",
       "      <td>38250.0</td>\n",
       "      <td>5750.0</td>\n",
       "      <td>31500.0</td>\n",
       "    </tr>\n",
       "    <tr>\n",
       "      <th>2</th>\n",
       "      <td>603</td>\n",
       "      <td>0</td>\n",
       "      <td>2</td>\n",
       "      <td>38250.0</td>\n",
       "      <td>25250.0</td>\n",
       "      <td>35000.0</td>\n",
       "    </tr>\n",
       "    <tr>\n",
       "      <th>3</th>\n",
       "      <td>612</td>\n",
       "      <td>0</td>\n",
       "      <td>3</td>\n",
       "      <td>38250.0</td>\n",
       "      <td>5750.0</td>\n",
       "      <td>35000.0</td>\n",
       "    </tr>\n",
       "    <tr>\n",
       "      <th>4</th>\n",
       "      <td>743</td>\n",
       "      <td>0</td>\n",
       "      <td>4</td>\n",
       "      <td>38250.0</td>\n",
       "      <td>25250.0</td>\n",
       "      <td>21000.0</td>\n",
       "    </tr>\n",
       "    <tr>\n",
       "      <th>5</th>\n",
       "      <td>752</td>\n",
       "      <td>0</td>\n",
       "      <td>5</td>\n",
       "      <td>38250.0</td>\n",
       "      <td>5750.0</td>\n",
       "      <td>21000.0</td>\n",
       "    </tr>\n",
       "    <tr>\n",
       "      <th>6</th>\n",
       "      <td>813</td>\n",
       "      <td>0</td>\n",
       "      <td>6</td>\n",
       "      <td>38250.0</td>\n",
       "      <td>25250.0</td>\n",
       "      <td>24500.0</td>\n",
       "    </tr>\n",
       "    <tr>\n",
       "      <th>7</th>\n",
       "      <td>822</td>\n",
       "      <td>0</td>\n",
       "      <td>7</td>\n",
       "      <td>38250.0</td>\n",
       "      <td>5750.0</td>\n",
       "      <td>24500.0</td>\n",
       "    </tr>\n",
       "    <tr>\n",
       "      <th>8</th>\n",
       "      <td>859</td>\n",
       "      <td>0</td>\n",
       "      <td>8</td>\n",
       "      <td>38250.0</td>\n",
       "      <td>25250.0</td>\n",
       "      <td>28000.0</td>\n",
       "    </tr>\n",
       "    <tr>\n",
       "      <th>9</th>\n",
       "      <td>868</td>\n",
       "      <td>0</td>\n",
       "      <td>9</td>\n",
       "      <td>38250.0</td>\n",
       "      <td>5750.0</td>\n",
       "      <td>28000.0</td>\n",
       "    </tr>\n",
       "    <tr>\n",
       "      <th>10</th>\n",
       "      <td>210</td>\n",
       "      <td>1</td>\n",
       "      <td>0</td>\n",
       "      <td>22000.0</td>\n",
       "      <td>15500.0</td>\n",
       "      <td>31500.0</td>\n",
       "    </tr>\n",
       "    <tr>\n",
       "      <th>11</th>\n",
       "      <td>223</td>\n",
       "      <td>1</td>\n",
       "      <td>1</td>\n",
       "      <td>5750.0</td>\n",
       "      <td>5750.0</td>\n",
       "      <td>31500.0</td>\n",
       "    </tr>\n",
       "    <tr>\n",
       "      <th>12</th>\n",
       "      <td>624</td>\n",
       "      <td>1</td>\n",
       "      <td>2</td>\n",
       "      <td>22000.0</td>\n",
       "      <td>15500.0</td>\n",
       "      <td>35000.0</td>\n",
       "    </tr>\n",
       "    <tr>\n",
       "      <th>13</th>\n",
       "      <td>637</td>\n",
       "      <td>1</td>\n",
       "      <td>3</td>\n",
       "      <td>5750.0</td>\n",
       "      <td>5750.0</td>\n",
       "      <td>35000.0</td>\n",
       "    </tr>\n",
       "    <tr>\n",
       "      <th>14</th>\n",
       "      <td>777</td>\n",
       "      <td>1</td>\n",
       "      <td>4</td>\n",
       "      <td>5750.0</td>\n",
       "      <td>5750.0</td>\n",
       "      <td>21000.0</td>\n",
       "    </tr>\n",
       "    <tr>\n",
       "      <th>15</th>\n",
       "      <td>834</td>\n",
       "      <td>1</td>\n",
       "      <td>5</td>\n",
       "      <td>22000.0</td>\n",
       "      <td>15500.0</td>\n",
       "      <td>24500.0</td>\n",
       "    </tr>\n",
       "    <tr>\n",
       "      <th>16</th>\n",
       "      <td>847</td>\n",
       "      <td>1</td>\n",
       "      <td>6</td>\n",
       "      <td>5750.0</td>\n",
       "      <td>5750.0</td>\n",
       "      <td>24500.0</td>\n",
       "    </tr>\n",
       "    <tr>\n",
       "      <th>17</th>\n",
       "      <td>880</td>\n",
       "      <td>1</td>\n",
       "      <td>7</td>\n",
       "      <td>22000.0</td>\n",
       "      <td>15500.0</td>\n",
       "      <td>28000.0</td>\n",
       "    </tr>\n",
       "    <tr>\n",
       "      <th>18</th>\n",
       "      <td>893</td>\n",
       "      <td>1</td>\n",
       "      <td>8</td>\n",
       "      <td>5750.0</td>\n",
       "      <td>5750.0</td>\n",
       "      <td>28000.0</td>\n",
       "    </tr>\n",
       "    <tr>\n",
       "      <th>19</th>\n",
       "      <td>393</td>\n",
       "      <td>2</td>\n",
       "      <td>0</td>\n",
       "      <td>38250.0</td>\n",
       "      <td>25250.0</td>\n",
       "      <td>10500.0</td>\n",
       "    </tr>\n",
       "    <tr>\n",
       "      <th>20</th>\n",
       "      <td>402</td>\n",
       "      <td>2</td>\n",
       "      <td>1</td>\n",
       "      <td>38250.0</td>\n",
       "      <td>5750.0</td>\n",
       "      <td>10500.0</td>\n",
       "    </tr>\n",
       "    <tr>\n",
       "      <th>21</th>\n",
       "      <td>414</td>\n",
       "      <td>2</td>\n",
       "      <td>2</td>\n",
       "      <td>22000.0</td>\n",
       "      <td>15500.0</td>\n",
       "      <td>10500.0</td>\n",
       "    </tr>\n",
       "    <tr>\n",
       "      <th>22</th>\n",
       "      <td>463</td>\n",
       "      <td>2</td>\n",
       "      <td>3</td>\n",
       "      <td>38250.0</td>\n",
       "      <td>25250.0</td>\n",
       "      <td>14000.0</td>\n",
       "    </tr>\n",
       "    <tr>\n",
       "      <th>23</th>\n",
       "      <td>472</td>\n",
       "      <td>2</td>\n",
       "      <td>4</td>\n",
       "      <td>38250.0</td>\n",
       "      <td>5750.0</td>\n",
       "      <td>14000.0</td>\n",
       "    </tr>\n",
       "    <tr>\n",
       "      <th>24</th>\n",
       "      <td>533</td>\n",
       "      <td>2</td>\n",
       "      <td>5</td>\n",
       "      <td>38250.0</td>\n",
       "      <td>25250.0</td>\n",
       "      <td>7000.0</td>\n",
       "    </tr>\n",
       "    <tr>\n",
       "      <th>25</th>\n",
       "      <td>542</td>\n",
       "      <td>2</td>\n",
       "      <td>6</td>\n",
       "      <td>38250.0</td>\n",
       "      <td>5750.0</td>\n",
       "      <td>7000.0</td>\n",
       "    </tr>\n",
       "    <tr>\n",
       "      <th>26</th>\n",
       "      <td>554</td>\n",
       "      <td>2</td>\n",
       "      <td>7</td>\n",
       "      <td>22000.0</td>\n",
       "      <td>15500.0</td>\n",
       "      <td>7000.0</td>\n",
       "    </tr>\n",
       "    <tr>\n",
       "      <th>27</th>\n",
       "      <td>673</td>\n",
       "      <td>2</td>\n",
       "      <td>8</td>\n",
       "      <td>38250.0</td>\n",
       "      <td>25250.0</td>\n",
       "      <td>17500.0</td>\n",
       "    </tr>\n",
       "    <tr>\n",
       "      <th>28</th>\n",
       "      <td>682</td>\n",
       "      <td>2</td>\n",
       "      <td>9</td>\n",
       "      <td>38250.0</td>\n",
       "      <td>5750.0</td>\n",
       "      <td>17500.0</td>\n",
       "    </tr>\n",
       "    <tr>\n",
       "      <th>29</th>\n",
       "      <td>743</td>\n",
       "      <td>2</td>\n",
       "      <td>10</td>\n",
       "      <td>38250.0</td>\n",
       "      <td>25250.0</td>\n",
       "      <td>21000.0</td>\n",
       "    </tr>\n",
       "    <tr>\n",
       "      <th>30</th>\n",
       "      <td>752</td>\n",
       "      <td>2</td>\n",
       "      <td>11</td>\n",
       "      <td>38250.0</td>\n",
       "      <td>5750.0</td>\n",
       "      <td>21000.0</td>\n",
       "    </tr>\n",
       "    <tr>\n",
       "      <th>31</th>\n",
       "      <td>1015</td>\n",
       "      <td>2</td>\n",
       "      <td>12</td>\n",
       "      <td>38250.0</td>\n",
       "      <td>25250.0</td>\n",
       "      <td>3500.0</td>\n",
       "    </tr>\n",
       "    <tr>\n",
       "      <th>32</th>\n",
       "      <td>1024</td>\n",
       "      <td>2</td>\n",
       "      <td>13</td>\n",
       "      <td>38250.0</td>\n",
       "      <td>5750.0</td>\n",
       "      <td>3500.0</td>\n",
       "    </tr>\n",
       "    <tr>\n",
       "      <th>33</th>\n",
       "      <td>427</td>\n",
       "      <td>3</td>\n",
       "      <td>0</td>\n",
       "      <td>5750.0</td>\n",
       "      <td>5750.0</td>\n",
       "      <td>10500.0</td>\n",
       "    </tr>\n",
       "    <tr>\n",
       "      <th>34</th>\n",
       "      <td>484</td>\n",
       "      <td>3</td>\n",
       "      <td>1</td>\n",
       "      <td>22000.0</td>\n",
       "      <td>15500.0</td>\n",
       "      <td>14000.0</td>\n",
       "    </tr>\n",
       "    <tr>\n",
       "      <th>35</th>\n",
       "      <td>497</td>\n",
       "      <td>3</td>\n",
       "      <td>2</td>\n",
       "      <td>5750.0</td>\n",
       "      <td>5750.0</td>\n",
       "      <td>14000.0</td>\n",
       "    </tr>\n",
       "    <tr>\n",
       "      <th>36</th>\n",
       "      <td>567</td>\n",
       "      <td>3</td>\n",
       "      <td>3</td>\n",
       "      <td>5750.0</td>\n",
       "      <td>5750.0</td>\n",
       "      <td>7000.0</td>\n",
       "    </tr>\n",
       "    <tr>\n",
       "      <th>37</th>\n",
       "      <td>694</td>\n",
       "      <td>3</td>\n",
       "      <td>4</td>\n",
       "      <td>22000.0</td>\n",
       "      <td>15500.0</td>\n",
       "      <td>17500.0</td>\n",
       "    </tr>\n",
       "    <tr>\n",
       "      <th>38</th>\n",
       "      <td>707</td>\n",
       "      <td>3</td>\n",
       "      <td>5</td>\n",
       "      <td>5750.0</td>\n",
       "      <td>5750.0</td>\n",
       "      <td>17500.0</td>\n",
       "    </tr>\n",
       "    <tr>\n",
       "      <th>39</th>\n",
       "      <td>764</td>\n",
       "      <td>3</td>\n",
       "      <td>6</td>\n",
       "      <td>22000.0</td>\n",
       "      <td>15500.0</td>\n",
       "      <td>21000.0</td>\n",
       "    </tr>\n",
       "    <tr>\n",
       "      <th>40</th>\n",
       "      <td>777</td>\n",
       "      <td>3</td>\n",
       "      <td>7</td>\n",
       "      <td>5750.0</td>\n",
       "      <td>5750.0</td>\n",
       "      <td>21000.0</td>\n",
       "    </tr>\n",
       "    <tr>\n",
       "      <th>41</th>\n",
       "      <td>999</td>\n",
       "      <td>4</td>\n",
       "      <td>0</td>\n",
       "      <td>22000.0</td>\n",
       "      <td>15500.0</td>\n",
       "      <td>0.0</td>\n",
       "    </tr>\n",
       "    <tr>\n",
       "      <th>42</th>\n",
       "      <td>47</td>\n",
       "      <td>5</td>\n",
       "      <td>0</td>\n",
       "      <td>5750.0</td>\n",
       "      <td>5750.0</td>\n",
       "      <td>-6000.0</td>\n",
       "    </tr>\n",
       "    <tr>\n",
       "      <th>43</th>\n",
       "      <td>271</td>\n",
       "      <td>5</td>\n",
       "      <td>1</td>\n",
       "      <td>5750.0</td>\n",
       "      <td>5750.0</td>\n",
       "      <td>-3000.0</td>\n",
       "    </tr>\n",
       "    <tr>\n",
       "      <th>44</th>\n",
       "      <td>567</td>\n",
       "      <td>5</td>\n",
       "      <td>2</td>\n",
       "      <td>5750.0</td>\n",
       "      <td>5750.0</td>\n",
       "      <td>7000.0</td>\n",
       "    </tr>\n",
       "    <tr>\n",
       "      <th>45</th>\n",
       "      <td>941</td>\n",
       "      <td>5</td>\n",
       "      <td>3</td>\n",
       "      <td>5750.0</td>\n",
       "      <td>5750.0</td>\n",
       "      <td>0.0</td>\n",
       "    </tr>\n",
       "    <tr>\n",
       "      <th>46</th>\n",
       "      <td>1049</td>\n",
       "      <td>5</td>\n",
       "      <td>4</td>\n",
       "      <td>5750.0</td>\n",
       "      <td>5750.0</td>\n",
       "      <td>3500.0</td>\n",
       "    </tr>\n",
       "    <tr>\n",
       "      <th>47</th>\n",
       "      <td>70</td>\n",
       "      <td>6</td>\n",
       "      <td>0</td>\n",
       "      <td>22000.0</td>\n",
       "      <td>15500.0</td>\n",
       "      <td>-6000.0</td>\n",
       "    </tr>\n",
       "    <tr>\n",
       "      <th>48</th>\n",
       "      <td>329</td>\n",
       "      <td>6</td>\n",
       "      <td>1</td>\n",
       "      <td>22000.0</td>\n",
       "      <td>15500.0</td>\n",
       "      <td>-3000.0</td>\n",
       "    </tr>\n",
       "    <tr>\n",
       "      <th>49</th>\n",
       "      <td>1015</td>\n",
       "      <td>6</td>\n",
       "      <td>2</td>\n",
       "      <td>38250.0</td>\n",
       "      <td>25250.0</td>\n",
       "      <td>3500.0</td>\n",
       "    </tr>\n",
       "    <tr>\n",
       "      <th>50</th>\n",
       "      <td>1024</td>\n",
       "      <td>6</td>\n",
       "      <td>3</td>\n",
       "      <td>38250.0</td>\n",
       "      <td>5750.0</td>\n",
       "      <td>3500.0</td>\n",
       "    </tr>\n",
       "    <tr>\n",
       "      <th>51</th>\n",
       "      <td>1036</td>\n",
       "      <td>6</td>\n",
       "      <td>4</td>\n",
       "      <td>22000.0</td>\n",
       "      <td>15500.0</td>\n",
       "      <td>3500.0</td>\n",
       "    </tr>\n",
       "    <tr>\n",
       "      <th>52</th>\n",
       "      <td>92</td>\n",
       "      <td>7</td>\n",
       "      <td>0</td>\n",
       "      <td>38250.0</td>\n",
       "      <td>25250.0</td>\n",
       "      <td>-6000.0</td>\n",
       "    </tr>\n",
       "    <tr>\n",
       "      <th>53</th>\n",
       "      <td>125</td>\n",
       "      <td>7</td>\n",
       "      <td>1</td>\n",
       "      <td>38250.0</td>\n",
       "      <td>5750.0</td>\n",
       "      <td>-6000.0</td>\n",
       "    </tr>\n",
       "    <tr>\n",
       "      <th>54</th>\n",
       "      <td>298</td>\n",
       "      <td>7</td>\n",
       "      <td>2</td>\n",
       "      <td>38250.0</td>\n",
       "      <td>25250.0</td>\n",
       "      <td>-3000.0</td>\n",
       "    </tr>\n",
       "    <tr>\n",
       "      <th>55</th>\n",
       "      <td>319</td>\n",
       "      <td>7</td>\n",
       "      <td>3</td>\n",
       "      <td>38250.0</td>\n",
       "      <td>5750.0</td>\n",
       "      <td>-3000.0</td>\n",
       "    </tr>\n",
       "    <tr>\n",
       "      <th>56</th>\n",
       "      <td>968</td>\n",
       "      <td>7</td>\n",
       "      <td>4</td>\n",
       "      <td>38250.0</td>\n",
       "      <td>25250.0</td>\n",
       "      <td>0.0</td>\n",
       "    </tr>\n",
       "    <tr>\n",
       "      <th>57</th>\n",
       "      <td>989</td>\n",
       "      <td>7</td>\n",
       "      <td>5</td>\n",
       "      <td>38250.0</td>\n",
       "      <td>5750.0</td>\n",
       "      <td>0.0</td>\n",
       "    </tr>\n",
       "    <tr>\n",
       "      <th>58</th>\n",
       "      <td>1015</td>\n",
       "      <td>7</td>\n",
       "      <td>6</td>\n",
       "      <td>38250.0</td>\n",
       "      <td>25250.0</td>\n",
       "      <td>3500.0</td>\n",
       "    </tr>\n",
       "    <tr>\n",
       "      <th>59</th>\n",
       "      <td>1024</td>\n",
       "      <td>7</td>\n",
       "      <td>7</td>\n",
       "      <td>38250.0</td>\n",
       "      <td>5750.0</td>\n",
       "      <td>3500.0</td>\n",
       "    </tr>\n",
       "  </tbody>\n",
       "</table>\n",
       "</div>"
      ],
      "text/plain": [
       "    node_id  file_id  index        x        y        z\n",
       "0       189        0      0  38250.0  25250.0  31500.0\n",
       "1       198        0      1  38250.0   5750.0  31500.0\n",
       "2       603        0      2  38250.0  25250.0  35000.0\n",
       "3       612        0      3  38250.0   5750.0  35000.0\n",
       "4       743        0      4  38250.0  25250.0  21000.0\n",
       "5       752        0      5  38250.0   5750.0  21000.0\n",
       "6       813        0      6  38250.0  25250.0  24500.0\n",
       "7       822        0      7  38250.0   5750.0  24500.0\n",
       "8       859        0      8  38250.0  25250.0  28000.0\n",
       "9       868        0      9  38250.0   5750.0  28000.0\n",
       "10      210        1      0  22000.0  15500.0  31500.0\n",
       "11      223        1      1   5750.0   5750.0  31500.0\n",
       "12      624        1      2  22000.0  15500.0  35000.0\n",
       "13      637        1      3   5750.0   5750.0  35000.0\n",
       "14      777        1      4   5750.0   5750.0  21000.0\n",
       "15      834        1      5  22000.0  15500.0  24500.0\n",
       "16      847        1      6   5750.0   5750.0  24500.0\n",
       "17      880        1      7  22000.0  15500.0  28000.0\n",
       "18      893        1      8   5750.0   5750.0  28000.0\n",
       "19      393        2      0  38250.0  25250.0  10500.0\n",
       "20      402        2      1  38250.0   5750.0  10500.0\n",
       "21      414        2      2  22000.0  15500.0  10500.0\n",
       "22      463        2      3  38250.0  25250.0  14000.0\n",
       "23      472        2      4  38250.0   5750.0  14000.0\n",
       "24      533        2      5  38250.0  25250.0   7000.0\n",
       "25      542        2      6  38250.0   5750.0   7000.0\n",
       "26      554        2      7  22000.0  15500.0   7000.0\n",
       "27      673        2      8  38250.0  25250.0  17500.0\n",
       "28      682        2      9  38250.0   5750.0  17500.0\n",
       "29      743        2     10  38250.0  25250.0  21000.0\n",
       "30      752        2     11  38250.0   5750.0  21000.0\n",
       "31     1015        2     12  38250.0  25250.0   3500.0\n",
       "32     1024        2     13  38250.0   5750.0   3500.0\n",
       "33      427        3      0   5750.0   5750.0  10500.0\n",
       "34      484        3      1  22000.0  15500.0  14000.0\n",
       "35      497        3      2   5750.0   5750.0  14000.0\n",
       "36      567        3      3   5750.0   5750.0   7000.0\n",
       "37      694        3      4  22000.0  15500.0  17500.0\n",
       "38      707        3      5   5750.0   5750.0  17500.0\n",
       "39      764        3      6  22000.0  15500.0  21000.0\n",
       "40      777        3      7   5750.0   5750.0  21000.0\n",
       "41      999        4      0  22000.0  15500.0      0.0\n",
       "42       47        5      0   5750.0   5750.0  -6000.0\n",
       "43      271        5      1   5750.0   5750.0  -3000.0\n",
       "44      567        5      2   5750.0   5750.0   7000.0\n",
       "45      941        5      3   5750.0   5750.0      0.0\n",
       "46     1049        5      4   5750.0   5750.0   3500.0\n",
       "47       70        6      0  22000.0  15500.0  -6000.0\n",
       "48      329        6      1  22000.0  15500.0  -3000.0\n",
       "49     1015        6      2  38250.0  25250.0   3500.0\n",
       "50     1024        6      3  38250.0   5750.0   3500.0\n",
       "51     1036        6      4  22000.0  15500.0   3500.0\n",
       "52       92        7      0  38250.0  25250.0  -6000.0\n",
       "53      125        7      1  38250.0   5750.0  -6000.0\n",
       "54      298        7      2  38250.0  25250.0  -3000.0\n",
       "55      319        7      3  38250.0   5750.0  -3000.0\n",
       "56      968        7      4  38250.0  25250.0      0.0\n",
       "57      989        7      5  38250.0   5750.0      0.0\n",
       "58     1015        7      6  38250.0  25250.0   3500.0\n",
       "59     1024        7      7  38250.0   5750.0   3500.0"
      ]
     },
     "execution_count": 12,
     "metadata": {},
     "output_type": "execute_result"
    }
   ],
   "source": [
    "model.nodes_info['dataframe']"
   ]
  },
  {
   "cell_type": "code",
   "execution_count": 13,
   "id": "e4ce1519",
   "metadata": {},
   "outputs": [
    {
     "data": {
      "application/vnd.microsoft.datawrangler.viewer.v0+json": {
       "columns": [
        {
         "name": "index",
         "rawType": "int64",
         "type": "integer"
        },
        {
         "name": "node_id",
         "rawType": "int64",
         "type": "integer"
        },
        {
         "name": "file_id",
         "rawType": "int64",
         "type": "integer"
        },
        {
         "name": "index",
         "rawType": "int64",
         "type": "integer"
        },
        {
         "name": "x",
         "rawType": "float64",
         "type": "float"
        },
        {
         "name": "y",
         "rawType": "float64",
         "type": "float"
        },
        {
         "name": "z",
         "rawType": "float64",
         "type": "float"
        }
       ],
       "ref": "e37600e2-5b75-4bd7-89d5-86ea99ac34c2",
       "rows": [
        [
         "0",
         "70",
         "6",
         "0",
         "22000.0",
         "15500.0",
         "-6000.0"
        ],
        [
         "1",
         "210",
         "1",
         "0",
         "22000.0",
         "15500.0",
         "31500.0"
        ],
        [
         "2",
         "329",
         "6",
         "1",
         "22000.0",
         "15500.0",
         "-3000.0"
        ],
        [
         "3",
         "414",
         "2",
         "2",
         "22000.0",
         "15500.0",
         "10500.0"
        ],
        [
         "4",
         "484",
         "3",
         "1",
         "22000.0",
         "15500.0",
         "14000.0"
        ],
        [
         "5",
         "554",
         "2",
         "7",
         "22000.0",
         "15500.0",
         "7000.0"
        ],
        [
         "6",
         "624",
         "1",
         "2",
         "22000.0",
         "15500.0",
         "35000.0"
        ],
        [
         "7",
         "694",
         "3",
         "4",
         "22000.0",
         "15500.0",
         "17500.0"
        ],
        [
         "8",
         "764",
         "3",
         "6",
         "22000.0",
         "15500.0",
         "21000.0"
        ],
        [
         "9",
         "834",
         "1",
         "5",
         "22000.0",
         "15500.0",
         "24500.0"
        ],
        [
         "10",
         "880",
         "1",
         "7",
         "22000.0",
         "15500.0",
         "28000.0"
        ],
        [
         "11",
         "999",
         "4",
         "0",
         "22000.0",
         "15500.0",
         "0.0"
        ],
        [
         "12",
         "1036",
         "6",
         "4",
         "22000.0",
         "15500.0",
         "3500.0"
        ]
       ],
       "shape": {
        "columns": 6,
        "rows": 13
       }
      },
      "text/html": [
       "<div>\n",
       "<style scoped>\n",
       "    .dataframe tbody tr th:only-of-type {\n",
       "        vertical-align: middle;\n",
       "    }\n",
       "\n",
       "    .dataframe tbody tr th {\n",
       "        vertical-align: top;\n",
       "    }\n",
       "\n",
       "    .dataframe thead th {\n",
       "        text-align: right;\n",
       "    }\n",
       "</style>\n",
       "<table border=\"1\" class=\"dataframe\">\n",
       "  <thead>\n",
       "    <tr style=\"text-align: right;\">\n",
       "      <th></th>\n",
       "      <th>node_id</th>\n",
       "      <th>file_id</th>\n",
       "      <th>index</th>\n",
       "      <th>x</th>\n",
       "      <th>y</th>\n",
       "      <th>z</th>\n",
       "    </tr>\n",
       "  </thead>\n",
       "  <tbody>\n",
       "    <tr>\n",
       "      <th>0</th>\n",
       "      <td>70</td>\n",
       "      <td>6</td>\n",
       "      <td>0</td>\n",
       "      <td>22000.0</td>\n",
       "      <td>15500.0</td>\n",
       "      <td>-6000.0</td>\n",
       "    </tr>\n",
       "    <tr>\n",
       "      <th>1</th>\n",
       "      <td>210</td>\n",
       "      <td>1</td>\n",
       "      <td>0</td>\n",
       "      <td>22000.0</td>\n",
       "      <td>15500.0</td>\n",
       "      <td>31500.0</td>\n",
       "    </tr>\n",
       "    <tr>\n",
       "      <th>2</th>\n",
       "      <td>329</td>\n",
       "      <td>6</td>\n",
       "      <td>1</td>\n",
       "      <td>22000.0</td>\n",
       "      <td>15500.0</td>\n",
       "      <td>-3000.0</td>\n",
       "    </tr>\n",
       "    <tr>\n",
       "      <th>3</th>\n",
       "      <td>414</td>\n",
       "      <td>2</td>\n",
       "      <td>2</td>\n",
       "      <td>22000.0</td>\n",
       "      <td>15500.0</td>\n",
       "      <td>10500.0</td>\n",
       "    </tr>\n",
       "    <tr>\n",
       "      <th>4</th>\n",
       "      <td>484</td>\n",
       "      <td>3</td>\n",
       "      <td>1</td>\n",
       "      <td>22000.0</td>\n",
       "      <td>15500.0</td>\n",
       "      <td>14000.0</td>\n",
       "    </tr>\n",
       "    <tr>\n",
       "      <th>5</th>\n",
       "      <td>554</td>\n",
       "      <td>2</td>\n",
       "      <td>7</td>\n",
       "      <td>22000.0</td>\n",
       "      <td>15500.0</td>\n",
       "      <td>7000.0</td>\n",
       "    </tr>\n",
       "    <tr>\n",
       "      <th>6</th>\n",
       "      <td>624</td>\n",
       "      <td>1</td>\n",
       "      <td>2</td>\n",
       "      <td>22000.0</td>\n",
       "      <td>15500.0</td>\n",
       "      <td>35000.0</td>\n",
       "    </tr>\n",
       "    <tr>\n",
       "      <th>7</th>\n",
       "      <td>694</td>\n",
       "      <td>3</td>\n",
       "      <td>4</td>\n",
       "      <td>22000.0</td>\n",
       "      <td>15500.0</td>\n",
       "      <td>17500.0</td>\n",
       "    </tr>\n",
       "    <tr>\n",
       "      <th>8</th>\n",
       "      <td>764</td>\n",
       "      <td>3</td>\n",
       "      <td>6</td>\n",
       "      <td>22000.0</td>\n",
       "      <td>15500.0</td>\n",
       "      <td>21000.0</td>\n",
       "    </tr>\n",
       "    <tr>\n",
       "      <th>9</th>\n",
       "      <td>834</td>\n",
       "      <td>1</td>\n",
       "      <td>5</td>\n",
       "      <td>22000.0</td>\n",
       "      <td>15500.0</td>\n",
       "      <td>24500.0</td>\n",
       "    </tr>\n",
       "    <tr>\n",
       "      <th>10</th>\n",
       "      <td>880</td>\n",
       "      <td>1</td>\n",
       "      <td>7</td>\n",
       "      <td>22000.0</td>\n",
       "      <td>15500.0</td>\n",
       "      <td>28000.0</td>\n",
       "    </tr>\n",
       "    <tr>\n",
       "      <th>11</th>\n",
       "      <td>999</td>\n",
       "      <td>4</td>\n",
       "      <td>0</td>\n",
       "      <td>22000.0</td>\n",
       "      <td>15500.0</td>\n",
       "      <td>0.0</td>\n",
       "    </tr>\n",
       "    <tr>\n",
       "      <th>12</th>\n",
       "      <td>1036</td>\n",
       "      <td>6</td>\n",
       "      <td>4</td>\n",
       "      <td>22000.0</td>\n",
       "      <td>15500.0</td>\n",
       "      <td>3500.0</td>\n",
       "    </tr>\n",
       "  </tbody>\n",
       "</table>\n",
       "</div>"
      ],
      "text/plain": [
       "    node_id  file_id  index        x        y        z\n",
       "0        70        6      0  22000.0  15500.0  -6000.0\n",
       "1       210        1      0  22000.0  15500.0  31500.0\n",
       "2       329        6      1  22000.0  15500.0  -3000.0\n",
       "3       414        2      2  22000.0  15500.0  10500.0\n",
       "4       484        3      1  22000.0  15500.0  14000.0\n",
       "5       554        2      7  22000.0  15500.0   7000.0\n",
       "6       624        1      2  22000.0  15500.0  35000.0\n",
       "7       694        3      4  22000.0  15500.0  17500.0\n",
       "8       764        3      6  22000.0  15500.0  21000.0\n",
       "9       834        1      5  22000.0  15500.0  24500.0\n",
       "10      880        1      7  22000.0  15500.0  28000.0\n",
       "11      999        4      0  22000.0  15500.0      0.0\n",
       "12     1036        6      4  22000.0  15500.0   3500.0"
      ]
     },
     "execution_count": 13,
     "metadata": {},
     "output_type": "execute_result"
    }
   ],
   "source": [
    "model.model_info.get_node_coordinates(selection_set_id=4)"
   ]
  },
  {
   "cell_type": "code",
   "execution_count": 14,
   "id": "07adb7c6",
   "metadata": {},
   "outputs": [
    {
     "data": {
      "text/plain": [
       "(<Axes: title={'center': 'Roof Drift – dir y  (z=35000.00 to -6000.00)'}, xlabel='Time [s]', ylabel='Drift ratio (Δu/h)'>,\n",
       " {'time': array([2.50000000e-03, 3.00000000e-02, 5.50000000e-02, ...,\n",
       "         3.99283594e+01, 3.99558594e+01, 3.99833594e+01], shape=(1531,)),\n",
       "  'drift': array([-3.45938840e-08, -3.46371132e-08, -2.84577046e-08, ...,\n",
       "         -2.15927955e-04, -2.66001728e-04, -3.11824217e-04], shape=(1531,)),\n",
       "  'top_z': 35000.0,\n",
       "  'bottom_z': -6000.0,\n",
       "  'top_ids': [624],\n",
       "  'bottom_ids': [70]})"
      ]
     },
     "execution_count": 14,
     "metadata": {},
     "output_type": "execute_result"
    },
    {
     "data": {
      "image/png": "[encoded data removed]",
      "text/plain": [
       "<Figure size 1000x400 with 1 Axes>"
      ]
     },
     "metadata": {},
     "output_type": "display_data"
    }
   ],
   "source": [
    "model.plot.nodes.plot_roof_drift(model_stage='MODEL_STAGE[5]',\n",
    "                                 selection_set_id=4,\n",
    "                                 direction=1,)"
   ]
  },
  {
   "cell_type": "code",
   "execution_count": null,
   "id": "501177bc",
   "metadata": {},
   "outputs": [
    {
     "name": "stderr",
     "output_type": "stream",
     "text": [
      "C:\\Users\\nmora\\OneDrive\\Documents\\GitHub\\STKO_to_python\\src\\STKO_to_python\\plotting\\plot_nodes.py:295: RuntimeWarning: Direction '2' not found for node 70; skipping.\n",
      "  warnings.warn(f\"Direction '{col}' not found for node {nid}; skipping.\", RuntimeWarning)\n",
      "C:\\Users\\nmora\\OneDrive\\Documents\\GitHub\\STKO_to_python\\src\\STKO_to_python\\plotting\\plot_nodes.py:295: RuntimeWarning: Direction '2' not found for node 329; skipping.\n",
      "  warnings.warn(f\"Direction '{col}' not found for node {nid}; skipping.\", RuntimeWarning)\n",
      "C:\\Users\\nmora\\OneDrive\\Documents\\GitHub\\STKO_to_python\\src\\STKO_to_python\\plotting\\plot_nodes.py:295: RuntimeWarning: Direction '2' not found for node 999; skipping.\n",
      "  warnings.warn(f\"Direction '{col}' not found for node {nid}; skipping.\", RuntimeWarning)\n",
      "C:\\Users\\nmora\\OneDrive\\Documents\\GitHub\\STKO_to_python\\src\\STKO_to_python\\plotting\\plot_nodes.py:295: RuntimeWarning: Direction '2' not found for node 1036; skipping.\n",
      "  warnings.warn(f\"Direction '{col}' not found for node {nid}; skipping.\", RuntimeWarning)\n",
      "C:\\Users\\nmora\\OneDrive\\Documents\\GitHub\\STKO_to_python\\src\\STKO_to_python\\plotting\\plot_nodes.py:295: RuntimeWarning: Direction '2' not found for node 554; skipping.\n",
      "  warnings.warn(f\"Direction '{col}' not found for node {nid}; skipping.\", RuntimeWarning)\n",
      "C:\\Users\\nmora\\OneDrive\\Documents\\GitHub\\STKO_to_python\\src\\STKO_to_python\\plotting\\plot_nodes.py:295: RuntimeWarning: Direction '2' not found for node 414; skipping.\n",
      "  warnings.warn(f\"Direction '{col}' not found for node {nid}; skipping.\", RuntimeWarning)\n",
      "C:\\Users\\nmora\\OneDrive\\Documents\\GitHub\\STKO_to_python\\src\\STKO_to_python\\plotting\\plot_nodes.py:295: RuntimeWarning: Direction '2' not found for node 484; skipping.\n",
      "  warnings.warn(f\"Direction '{col}' not found for node {nid}; skipping.\", RuntimeWarning)\n",
      "C:\\Users\\nmora\\OneDrive\\Documents\\GitHub\\STKO_to_python\\src\\STKO_to_python\\plotting\\plot_nodes.py:295: RuntimeWarning: Direction '2' not found for node 694; skipping.\n",
      "  warnings.warn(f\"Direction '{col}' not found for node {nid}; skipping.\", RuntimeWarning)\n",
      "C:\\Users\\nmora\\OneDrive\\Documents\\GitHub\\STKO_to_python\\src\\STKO_to_python\\plotting\\plot_nodes.py:295: RuntimeWarning: Direction '2' not found for node 764; skipping.\n",
      "  warnings.warn(f\"Direction '{col}' not found for node {nid}; skipping.\", RuntimeWarning)\n",
      "C:\\Users\\nmora\\OneDrive\\Documents\\GitHub\\STKO_to_python\\src\\STKO_to_python\\plotting\\plot_nodes.py:295: RuntimeWarning: Direction '2' not found for node 834; skipping.\n",
      "  warnings.warn(f\"Direction '{col}' not found for node {nid}; skipping.\", RuntimeWarning)\n",
      "C:\\Users\\nmora\\OneDrive\\Documents\\GitHub\\STKO_to_python\\src\\STKO_to_python\\plotting\\plot_nodes.py:295: RuntimeWarning: Direction '2' not found for node 880; skipping.\n",
      "  warnings.warn(f\"Direction '{col}' not found for node {nid}; skipping.\", RuntimeWarning)\n",
      "C:\\Users\\nmora\\OneDrive\\Documents\\GitHub\\STKO_to_python\\src\\STKO_to_python\\plotting\\plot_nodes.py:295: RuntimeWarning: Direction '2' not found for node 210; skipping.\n",
      "  warnings.warn(f\"Direction '{col}' not found for node {nid}; skipping.\", RuntimeWarning)\n",
      "C:\\Users\\nmora\\OneDrive\\Documents\\GitHub\\STKO_to_python\\src\\STKO_to_python\\plotting\\plot_nodes.py:295: RuntimeWarning: Direction '2' not found for node 624; skipping.\n",
      "  warnings.warn(f\"Direction '{col}' not found for node {nid}; skipping.\", RuntimeWarning)\n"
     ]
    },
    {
     "ename": "ValueError",
     "evalue": "Axis limits cannot be NaN or Inf",
     "output_type": "error",
     "traceback": [
      "\u001b[1;31m---------------------------------------------------------------------------\u001b[0m",
      "\u001b[1;31mValueError\u001b[0m                                Traceback (most recent call last)",
      "Cell \u001b[1;32mIn[16], line 1\u001b[0m\n\u001b[1;32m----> 1\u001b[0m \u001b[43mmodel\u001b[49m\u001b[38;5;241;43m.\u001b[39;49m\u001b[43mplot\u001b[49m\u001b[38;5;241;43m.\u001b[39;49m\u001b[43mnodes\u001b[49m\u001b[38;5;241;43m.\u001b[39;49m\u001b[43mplot_time_history\u001b[49m\u001b[43m(\u001b[49m\u001b[43mmodel_stage\u001b[49m\u001b[38;5;241;43m=\u001b[39;49m\u001b[38;5;124;43m'\u001b[39;49m\u001b[38;5;124;43mMODEL_STAGE[5]\u001b[39;49m\u001b[38;5;124;43m'\u001b[39;49m\u001b[43m,\u001b[49m\n\u001b[0;32m      2\u001b[0m \u001b[43m                                   \u001b[49m\u001b[43mresults_name\u001b[49m\u001b[38;5;241;43m=\u001b[39;49m\u001b[38;5;124;43m'\u001b[39;49m\u001b[38;5;124;43mDISPLACEMENT\u001b[39;49m\u001b[38;5;124;43m'\u001b[39;49m\u001b[43m,\u001b[49m\n\u001b[0;32m      3\u001b[0m \u001b[43m                                   \u001b[49m\u001b[43mselection_set_id\u001b[49m\u001b[38;5;241;43m=\u001b[39;49m\u001b[38;5;241;43m4\u001b[39;49m\u001b[43m,\u001b[49m\n\u001b[0;32m      4\u001b[0m \u001b[43m                                   \u001b[49m\u001b[43mdirection\u001b[49m\u001b[38;5;241;43m=\u001b[39;49m\u001b[38;5;241;43m2\u001b[39;49m\u001b[43m,\u001b[49m\n\u001b[0;32m      5\u001b[0m \u001b[43m                                   \u001b[49m\u001b[43msplit_subplots\u001b[49m\u001b[38;5;241;43m=\u001b[39;49m\u001b[38;5;28;43;01mTrue\u001b[39;49;00m\u001b[43m)\u001b[49m\n",
      "File \u001b[1;32m~\\OneDrive\\Documents\\GitHub\\STKO_to_python\\src\\STKO_to_python\\plotting\\plot_nodes.py:314\u001b[0m, in \u001b[0;36mPlotNodes.plot_time_history\u001b[1;34m(self, model_stage, results_name, node_ids, selection_set_id, direction, split_subplots, scaling_factor, sort_by, reverse_sort, figsize, linewidth, marker, sharey, **line_kwargs)\u001b[0m\n\u001b[0;32m    312\u001b[0m \u001b[38;5;28;01mif\u001b[39;00m split_subplots:\n\u001b[0;32m    313\u001b[0m     \u001b[38;5;28;01mfor\u001b[39;00m ax \u001b[38;5;129;01min\u001b[39;00m axes:\n\u001b[1;32m--> 314\u001b[0m         \u001b[43max\u001b[49m\u001b[38;5;241;43m.\u001b[39;49m\u001b[43mset_ylim\u001b[49m\u001b[43m(\u001b[49m\u001b[43mglobal_ymin\u001b[49m\u001b[43m,\u001b[49m\u001b[43m \u001b[49m\u001b[43mglobal_ymax\u001b[49m\u001b[43m)\u001b[49m\n\u001b[0;32m    316\u001b[0m axes[\u001b[38;5;241m-\u001b[39m\u001b[38;5;241m1\u001b[39m]\u001b[38;5;241m.\u001b[39mset_xlabel(\u001b[38;5;124m\"\u001b[39m\u001b[38;5;124mTime [s]\u001b[39m\u001b[38;5;124m\"\u001b[39m)\n\u001b[0;32m    317\u001b[0m \u001b[38;5;28;01mif\u001b[39;00m \u001b[38;5;129;01mnot\u001b[39;00m split_subplots:\n",
      "File \u001b[1;32mc:\\Users\\nmora\\venvs\\STKO_to_python\\lib\\site-packages\\matplotlib\\axes\\_base.py:4052\u001b[0m, in \u001b[0;36m_AxesBase.set_ylim\u001b[1;34m(self, bottom, top, emit, auto, ymin, ymax)\u001b[0m\n\u001b[0;32m   4050\u001b[0m         \u001b[38;5;28;01mraise\u001b[39;00m \u001b[38;5;167;01mTypeError\u001b[39;00m(\u001b[38;5;124m\"\u001b[39m\u001b[38;5;124mCannot pass both \u001b[39m\u001b[38;5;124m'\u001b[39m\u001b[38;5;124mtop\u001b[39m\u001b[38;5;124m'\u001b[39m\u001b[38;5;124m and \u001b[39m\u001b[38;5;124m'\u001b[39m\u001b[38;5;124mymax\u001b[39m\u001b[38;5;124m'\u001b[39m\u001b[38;5;124m\"\u001b[39m)\n\u001b[0;32m   4051\u001b[0m     top \u001b[38;5;241m=\u001b[39m ymax\n\u001b[1;32m-> 4052\u001b[0m \u001b[38;5;28;01mreturn\u001b[39;00m \u001b[38;5;28;43mself\u001b[39;49m\u001b[38;5;241;43m.\u001b[39;49m\u001b[43myaxis\u001b[49m\u001b[38;5;241;43m.\u001b[39;49m\u001b[43m_set_lim\u001b[49m\u001b[43m(\u001b[49m\u001b[43mbottom\u001b[49m\u001b[43m,\u001b[49m\u001b[43m \u001b[49m\u001b[43mtop\u001b[49m\u001b[43m,\u001b[49m\u001b[43m \u001b[49m\u001b[43memit\u001b[49m\u001b[38;5;241;43m=\u001b[39;49m\u001b[43memit\u001b[49m\u001b[43m,\u001b[49m\u001b[43m \u001b[49m\u001b[43mauto\u001b[49m\u001b[38;5;241;43m=\u001b[39;49m\u001b[43mauto\u001b[49m\u001b[43m)\u001b[49m\n",
      "File \u001b[1;32mc:\\Users\\nmora\\venvs\\STKO_to_python\\lib\\site-packages\\matplotlib\\axis.py:1216\u001b[0m, in \u001b[0;36mAxis._set_lim\u001b[1;34m(self, v0, v1, emit, auto)\u001b[0m\n\u001b[0;32m   1213\u001b[0m name \u001b[38;5;241m=\u001b[39m \u001b[38;5;28mself\u001b[39m\u001b[38;5;241m.\u001b[39m_get_axis_name()\n\u001b[0;32m   1215\u001b[0m \u001b[38;5;28mself\u001b[39m\u001b[38;5;241m.\u001b[39maxes\u001b[38;5;241m.\u001b[39m_process_unit_info([(name, (v0, v1))], convert\u001b[38;5;241m=\u001b[39m\u001b[38;5;28;01mFalse\u001b[39;00m)\n\u001b[1;32m-> 1216\u001b[0m v0 \u001b[38;5;241m=\u001b[39m \u001b[38;5;28;43mself\u001b[39;49m\u001b[38;5;241;43m.\u001b[39;49m\u001b[43maxes\u001b[49m\u001b[38;5;241;43m.\u001b[39;49m\u001b[43m_validate_converted_limits\u001b[49m\u001b[43m(\u001b[49m\u001b[43mv0\u001b[49m\u001b[43m,\u001b[49m\u001b[43m \u001b[49m\u001b[38;5;28;43mself\u001b[39;49m\u001b[38;5;241;43m.\u001b[39;49m\u001b[43mconvert_units\u001b[49m\u001b[43m)\u001b[49m\n\u001b[0;32m   1217\u001b[0m v1 \u001b[38;5;241m=\u001b[39m \u001b[38;5;28mself\u001b[39m\u001b[38;5;241m.\u001b[39maxes\u001b[38;5;241m.\u001b[39m_validate_converted_limits(v1, \u001b[38;5;28mself\u001b[39m\u001b[38;5;241m.\u001b[39mconvert_units)\n\u001b[0;32m   1219\u001b[0m \u001b[38;5;28;01mif\u001b[39;00m v0 \u001b[38;5;129;01mis\u001b[39;00m \u001b[38;5;28;01mNone\u001b[39;00m \u001b[38;5;129;01mor\u001b[39;00m v1 \u001b[38;5;129;01mis\u001b[39;00m \u001b[38;5;28;01mNone\u001b[39;00m:\n\u001b[0;32m   1220\u001b[0m     \u001b[38;5;66;03m# Axes init calls set_xlim(0, 1) before get_xlim() can be called,\u001b[39;00m\n\u001b[0;32m   1221\u001b[0m     \u001b[38;5;66;03m# so only grab the limits if we really need them.\u001b[39;00m\n",
      "File \u001b[1;32mc:\\Users\\nmora\\venvs\\STKO_to_python\\lib\\site-packages\\matplotlib\\axes\\_base.py:3739\u001b[0m, in \u001b[0;36m_AxesBase._validate_converted_limits\u001b[1;34m(self, limit, convert)\u001b[0m\n\u001b[0;32m   3736\u001b[0m     converted_limit \u001b[38;5;241m=\u001b[39m converted_limit\u001b[38;5;241m.\u001b[39msqueeze()\n\u001b[0;32m   3737\u001b[0m \u001b[38;5;28;01mif\u001b[39;00m (\u001b[38;5;28misinstance\u001b[39m(converted_limit, Real)\n\u001b[0;32m   3738\u001b[0m         \u001b[38;5;129;01mand\u001b[39;00m \u001b[38;5;129;01mnot\u001b[39;00m np\u001b[38;5;241m.\u001b[39misfinite(converted_limit)):\n\u001b[1;32m-> 3739\u001b[0m     \u001b[38;5;28;01mraise\u001b[39;00m \u001b[38;5;167;01mValueError\u001b[39;00m(\u001b[38;5;124m\"\u001b[39m\u001b[38;5;124mAxis limits cannot be NaN or Inf\u001b[39m\u001b[38;5;124m\"\u001b[39m)\n\u001b[0;32m   3740\u001b[0m \u001b[38;5;28;01mreturn\u001b[39;00m converted_limit\n",
      "\u001b[1;31mValueError\u001b[0m: Axis limits cannot be NaN or Inf"
     ]
    },
    {
     "data": {
      "image/png": "[encoded data removed]",
      "text/plain": [
       "<Figure size 800x3900 with 13 Axes>"
      ]
     },
     "metadata": {},
     "output_type": "display_data"
    }
   ],
   "source": [
    "model.plot.nodes.plot_time_history(model_stage='MODEL_STAGE[5]',\n",
    "                                   results_name='DISPLACEMENT',\n",
    "                                   selection_set_id=4,\n",
    "                                   direction=1,\n",
    "                                   split_subplots=True)"
   ]
  },
  {
   "cell_type": "code",
   "execution_count": null,
   "id": "3880b74b",
   "metadata": {},
   "outputs": [],
   "source": [
    "model.plot.nodes.plot_story_drifts(model_stage='MODEL_STAGE[5]',\n",
    "                                   selection_set_id=4,\n",
    "                                   direction=1,\n",
    "                                   split_subplots=True,)"
   ]
  },
  {
   "cell_type": "code",
   "execution_count": null,
   "id": "b7b310e0",
   "metadata": {},
   "outputs": [],
   "source": [
    "model.plot.nodes.plot_drift_profile(model_stage='MODEL_STAGE[5]',\n",
    "                                   selection_set_id=4,\n",
    "                                   direction=0,)"
   ]
  },
  {
   "cell_type": "code",
   "execution_count": null,
   "id": "fee447e7",
   "metadata": {},
   "outputs": [],
   "source": [
    "model.plot.nodes.plot_drift_profile(model_stage='MODEL_STAGE[5]',\n",
    "                                   selection_set_id=4,\n",
    "                                   direction=1,\n",
    "                                   )"
   ]
  },
  {
   "cell_type": "code",
   "execution_count": null,
   "id": "8a468cd5",
   "metadata": {},
   "outputs": [],
   "source": [
    "model.plot.nodes.plot_orbit(model_stage='MODEL_STAGE[5]',\n",
    "                            results_name='DISPLACEMENT',\n",
    "                            selection_set_id=4,\n",
    "                            split_subplots=True,)"
   ]
  }
 ],
 "metadata": {
  "kernelspec": {
   "display_name": "STKO_to_python",
   "language": "python",
   "name": "python3"
  },
  "language_info": {
   "codemirror_mode": {
    "name": "ipython",
    "version": 3
   },
   "file_extension": ".py",
   "mimetype": "text/x-python",
   "name": "python",
   "nbconvert_exporter": "python",
   "pygments_lexer": "ipython3",
   "version": "3.10.9"
  }
 },
 "nbformat": 4,
 "nbformat_minor": 5
}
